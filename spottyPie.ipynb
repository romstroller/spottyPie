{
 "cells": [
  {
   "cell_type": "code",
   "execution_count": 7,
   "metadata": {},
   "outputs": [],
   "source": [
    "import os\n",
    "import json\n",
    "import keyring\n",
    "import requests\n",
    "import traceback\n",
    "import pandas as pd\n",
    "from OsOps import Ops\n",
    "from spotipy import client, util\n",
    "from collections import namedtuple"
   ]
  },
  {
   "cell_type": "code",
   "execution_count": 9,
   "metadata": {},
   "outputs": [],
   "source": [
    "# AUTHENTICATE (POST), FROM CREDS STORED IN WIN CRED MGR\n",
    "user_id, sp_cid, sp_sec = ( \n",
    "    keyring.get_password( service, \"\" )\n",
    "    for service in [\n",
    "        \"spottyPie_user_id\",\n",
    "        \"spottyPie_clientID\", \n",
    "        \"spottyPie_clientSecret\"] )\n",
    "\n",
    "if None in [user_id, sp_cid, sp_sec]: print( \"Credential not set locally\" )"
   ]
  },
  {
   "cell_type": "code",
   "execution_count": 21,
   "metadata": {},
   "outputs": [],
   "source": [
    "ops = Ops()\n",
    "\n",
    "# standard API authenticate (not used)\n",
    "def getAuthResponse():\n",
    "    try: return (\n",
    "        requests.post( 'https://accounts.spotify.com/api/token', \n",
    "            { 'grant_type': 'client_credentials',\n",
    "                'client_id': sp_cid,\n",
    "                'client_secret': sp_sec, }) )\n",
    "    except Exception as exc: print( \n",
    "        f\"\\n[ ERRR ] {exc.__class__}\"\n",
    "        f\"\\n[ DSTR ] {exc.__doc__}\"\n",
    "        f\"\\n[ CTXT ] {exc.__context__}\"\n",
    "        f\"\\n{ '='*79 }\"\n",
    "        f\"\\n\\n{traceback.format_exc()}\" )\n",
    "\n",
    "# get authenticated spotipy object\n",
    "def auth_SpotPy():\n",
    "    token = util.prompt_for_user_token(\n",
    "        username= user_id, \n",
    "        scope= \" \".join( [\n",
    "            \"playlist-read-private\",\n",
    "            \"playlist-modify-private\",\n",
    "            \"user-library-modify\",\n",
    "            \"user-read-private\" ]),\n",
    "        client_id= sp_cid, \n",
    "        client_secret= sp_sec, \n",
    "        redirect_uri = \"http://example.com/\")\n",
    "\n",
    "    return client.Spotify(token)\n",
    "\n",
    "spot = auth_SpotPy()"
   ]
  },
  {
   "cell_type": "code",
   "execution_count": 12,
   "metadata": {},
   "outputs": [],
   "source": [
    "# full albums from tracks in any list, sorted by largest album\n",
    "\n",
    "def createNewPL( pl_name=\"New_PL\", stamp=True, ):\n",
    "    try: return spot.user_playlist_create( \n",
    "        user= user_id, \n",
    "        name= f\"{pl_name}_{ops.dtStamp()}\" if stamp else pl_name, \n",
    "        public=False )\n",
    "    except Exception as e: return f\"EXC createNewPL:\\n{type(e).__name__}\\n{e}\"\n",
    "\n",
    "def albsFromPList( pl_id ):\n",
    "    track_list = spot.user_playlist_tracks( user=user_id, playlist_id=pl_id, )\n",
    "    return { i : {\n",
    "        \"alb_id\" : item['track']['album']['id'], \n",
    "        \"tracks\" : item['track']['album']['total_tracks'],\n",
    "        \"dct\" : item, } \n",
    "        for i, item in enumerate( track_list['items']) }\n",
    "\n",
    "def getAllTrackIDs( listDict ):\n",
    "    Alb = namedtuple( \"Alb\", [ \"alb_id\", \"siz\", \"dct\" ] )\n",
    "    albsSorted = sorted( [ \n",
    "        Alb( d[\"alb_id\"], d['tracks'], d[\"dct\"] )\n",
    "        for _, d in listDict.items() ],\n",
    "        key = lambda el: el.siz, reverse=True )\n",
    "    return [ item['id']\n",
    "        for alb in albsSorted\n",
    "        for item in spot.album_tracks( alb.alb_id )['items'] ]\n",
    "\n",
    "def addTracksByID( idList, destination ):\n",
    "    def yieldSegments(li, size):\n",
    "        for i in range(0, len(li), size): yield li[ i:i + size ]\n",
    "    for seg in yieldSegments(idList, 100):  # max 100\n",
    "        spot.user_playlist_add_tracks(\n",
    "            user_id, \n",
    "            playlist_id=destination, \n",
    "            tracks=seg)\n",
    "            \n",
    "created_pl = createNewPL( pl_name=\"rrad\" )\n",
    "# created_pl = createNewPL( pl_name=\"dsco\" )\n",
    "rradDct = albsFromPList( \"37i9dQZEVXbuX4MySjIacD\" ) # release radar \n",
    "# dscoDct = albsFromPList( \"37i9dQZEVXcXssf47BUM1F\" ) # dscov weekly \n",
    "allTrackIDs = getAllTrackIDs( rradDct )\n",
    "# allTrackIDs = getAllTrackIDs( dscoDct )\n",
    "addTracksByID( allTrackIDs, created_pl['id'] )\n",
    "# addTracksByID( allTrackIDs, created_pl['id'] )"
   ]
  },
  {
   "cell_type": "code",
   "execution_count": 24,
   "metadata": {},
   "outputs": [],
   "source": [
    "# add: shuffle playlist by id; \n",
    "    # shuffle must ensure maximum distance between songs of the same album\n",
    "        # THEN/AND maximum distance between songs of same artist\n",
    "        # AND NOT alphabetical or album order\n",
    "track_dct = spot.user_playlist_tracks( user=user_id, playlist_id=\"2gnGX8RzMnqYbVYZuUnkPe\", )"
   ]
  },
  {
   "cell_type": "code",
   "execution_count": 49,
   "metadata": {},
   "outputs": [
    {
     "name": "stdout",
     "output_type": "stream",
     "text": [
      "28VtIxXxSnHaQFKCnKN0P5, 8\n",
      "5NYiyNqu9Joe1qtgJN01w3, 10\n",
      "3FvnZykNfyYuJ94zL46HrK, 9\n",
      "6vw8dbzcZ0a4btA4lGBLCL, 1\n",
      "10aiDpdFGyfCFEcqpx6XTq, 1\n",
      "0kbAsmfSMFpq8wfPki1kQj, 1\n",
      "09Df7mUZBQwbDYgvE0t30r, 1\n",
      "1pIwUzeY7bzkKQJrqA4gHQ, 1\n",
      "3naxO4ZMrfJqEpEKjkVvlH, 1\n",
      "57ttk3xzHMWLr6CGrEa8F3, 3\n",
      "57y7GwBbU7iWlVt3fO4yQA, 11\n",
      "6Oa2B45zimQ8lfbknds32G, 1\n",
      "3ArbhwwokDjBYwyJYIMEcZ, 2\n",
      "6A0IarahNWMnEcJ1Q6sn7d, 2\n",
      "5tD7xrX0TjRHaGCbSFDz3D, 1\n",
      "1mdlZytWHqyITkGx18A4R0, 2\n",
      "0YFhQCQPheByANPPcAmfHn, 1\n",
      "0BWJXExyO22HPW2ja2SWCb, 1\n",
      "2pANu4qucnliJuRR94eZSV, 1\n",
      "218CJKDCszsQQj7Amk7vIu, 1\n",
      "2DOiha5oI19Dmw5M9ryHD8, 1\n",
      "1rDjSDjjzVfpnsb3GgREFf, 1\n",
      "2pbga7SePsAKlYs3iKlWCF, 2\n",
      "3eHcKAlikW4c62i55ZGu0c, 2\n",
      "3WvQpufOsPzkZvcSuynCf3, 4\n",
      "4Y0PrDckfFKxKaVXsscDLB, 2\n",
      "1jL9mDhM5cMAwJD9brYyW5, 1\n",
      "4FF4II3GGoTuYRW3zenamA, 2\n",
      "6XBKxM9rbzyOBP6gpE0qhd, 1\n",
      "0c86awAGyX0pSNQYNwXKsy, 1\n",
      "3FsCGJY0JqSxvgezoMWYzF, 1\n"
     ]
    }
   ],
   "source": [
    "# Create counted \"groups of same album\" \n",
    "# get required distance for items of each group (total size/count)\n",
    "\n",
    "album_groups = {}\n",
    "len_items = 0\n",
    "\n",
    "for item in track_dct[\"items\"]:\n",
    "    \n",
    "    len_items +=1\n",
    "    \n",
    "    alb_id = item[\"track\"][\"album\"][\"id\"]\n",
    "    trk_id = item[\"track\"][\"id\"]\n",
    "    \n",
    "    if alb_id in album_groups:\n",
    "        album_groups[alb_id][\"items\"].add(trk_id)\n",
    "        album_groups[alb_id][\"count\"] += 1\n",
    "        \n",
    "    else: album_groups[alb_id] = { \"items\": set([trk_id]), \"count\": 1 }\n",
    "\n",
    "for k, v in album_groups.items(): print( f\"{k}, {v['count']}\" )"
   ]
  },
  {
   "cell_type": "code",
   "execution_count": 50,
   "metadata": {},
   "outputs": [],
   "source": [
    "# import math"
   ]
  },
  {
   "cell_type": "code",
   "execution_count": null,
   "metadata": {},
   "outputs": [],
   "source": [
    "from collections import Counter"
   ]
  },
  {
   "cell_type": "code",
   "execution_count": 258,
   "metadata": {},
   "outputs": [],
   "source": [
    "# to shuffle by other attribs than album, segment separately into Counter\n",
    "\n",
    "alb_id_list = [ \"B\", \"A\", \"A\", \"C\", \"B\", \"A\", \"A\", ]\n",
    "\n",
    "list_size = len(alb_id_list)\n",
    "alb_id_groups = Counter(alb_id_list).most_common()\n",
    "\n",
    "# INITIALIZE\n",
    "# values for minimum-frequency counter, store initial to reset when decr. to 0\n",
    "\n",
    "alb_id_mfCounts_orig = { alb_id : int( list_size / count ) \n",
    "    for alb_id, count in alb_id_groups }\n",
    "\n",
    "alb_id_mfCounts = alb_id_mfCounts_orig.copy()\n",
    "\n",
    "# create new list, adding from first group at curr_g_size\n",
    "# testing simply with g_posit\n",
    "g_posit = 0\n",
    "new_alb_id_list = [ alb_id_groups[g_posit][0] ]\n"
   ]
  },
  {
   "cell_type": "code",
   "execution_count": 259,
   "metadata": {},
   "outputs": [
    {
     "name": "stdout",
     "output_type": "stream",
     "text": [
      "new_alb_id_list=['A', 'B', 'A', 'C', 'A', 'B', 'A']\n"
     ]
    }
   ],
   "source": [
    "# main pattern\n",
    "# Check any mf_count==0 in order: None, \n",
    "\n",
    "def check_mf_count():\n",
    "    for alb_id, mf_counter in alb_id_mfCounts.items(): \n",
    "        if mf_counter<=0: return alb_id\n",
    "    return None\n",
    "\n",
    "while True:\n",
    "    if ( insert_id := check_mf_count() ):\n",
    "        # print( f\"mf_count for {insert_id} reached <=0\")\n",
    "        new_alb_id_list.append( insert_id )\n",
    "        \n",
    "        alb_id_mfCounts = { alb_id : count-1 \n",
    "            if alb_id != insert_id\n",
    "            else alb_id_mfCounts_orig[insert_id]\n",
    "            for alb_id, count in alb_id_mfCounts.items() }\n",
    "            \n",
    "    else: \n",
    "        # Check any n_size==curr_n_size: None\n",
    "        # replaced with simply \"next in list\"\n",
    "        g_posit += 1\n",
    "        # if g_posit+1 >= len(alb_id_groups): (\"finito\")\n",
    "        try: new_alb_id_list.append( alb_id_groups[g_posit][0] )\n",
    "        except IndexError: \n",
    "            print(f\"{new_alb_id_list=}\" )\n",
    "            break\n",
    "        alb_id_mfCounts = { alb_id : count-1 \n",
    "            for alb_id, count in alb_id_mfCounts.items() }\n"
   ]
  },
  {
   "cell_type": "code",
   "execution_count": null,
   "metadata": {},
   "outputs": [],
   "source": [
    "# sort albums by largest distance\n",
    "# draw first item, and insert at first possible required position for group\n",
    "    # that position-set now belongs to items of that type;\n",
    "        # insert all items across same position-set\n",
    "# insert according to required position\n",
    "# "
   ]
  },
  {
   "cell_type": "code",
   "execution_count": 17,
   "metadata": {},
   "outputs": [],
   "source": [
    "from collections import Counter"
   ]
  },
  {
   "cell_type": "code",
   "execution_count": 19,
   "metadata": {},
   "outputs": [],
   "source": [
    "# get total length of list\n",
    "list_len = len(track_ids)\n",
    "# dict with count of each album id\n",
    "# Counter(track_ids)"
   ]
  },
  {
   "cell_type": "code",
   "execution_count": null,
   "metadata": {},
   "outputs": [],
   "source": [
    "\n",
    "\n",
    "allTrackIDs = getAllTrackIDs( rradDct )\n",
    "\n",
    "def shuffleTracks():\n",
    "    pass\n",
    "\n",
    "addTracksByID( allTrackIDs, created_pl['id'] )\n"
   ]
  },
  {
   "cell_type": "code",
   "execution_count": 11,
   "metadata": {},
   "outputs": [],
   "source": [
    "# get library as dataframe ( all playlists, all tracks ) ~10min\n",
    "def getPlaylists( asDict=False ):\n",
    "    '''folder structure not available through API as at 221224'''\n",
    "    incrmt = 50  # max 50\n",
    "    offset = 0\n",
    "    plistsDct = {}\n",
    "    while True:\n",
    "        newItemDcts = spot.current_user_playlists( incrmt, offset)[\"items\"]\n",
    "        plistsDct.update( { iDct[\"id\"]: iDct for iDct in newItemDcts } )\n",
    "        if len(newItemDcts) < incrmt: \n",
    "            return pd.DataFrame( plistsDct ).T if not asDict else plistsDct\n",
    "        else: offset += incrmt\n",
    "\n",
    "def getTracks( id ):\n",
    "    incrmt = 100  # max 100\n",
    "    offset = 0\n",
    "    tracks = {}\n",
    "    while True:\n",
    "        items = spot.user_playlist_tracks( \n",
    "            user=user_id, playlist_id=id, limit=incrmt, offset=offset )[\"items\"]\n",
    "        tracks.update( { i[\"track\"][\"id\"]: i for i in items } )\n",
    "        if len(items) < incrmt: return tracks\n",
    "        else: offset += incrmt\n",
    "\n",
    "# df_pLists = getPlaylists()\n",
    "# df_pLists[\"tracklist\"] = df_pLists[\"id\"].apply( lambda id: getAllTracks( id ) )\n",
    "# ops.storePKL( df_pLists, \"df_pLists\", os.getcwd() )"
   ]
  },
  {
   "cell_type": "code",
   "execution_count": 10,
   "metadata": {},
   "outputs": [],
   "source": [
    "plDct = getPlaylists( asDict=True )\n",
    "for id, dct in plDct.items(): dct[\"tracks\"].update({ \"list\": getTracks( id )})\n",
    "ops.storePKL( plDct, \"plDct\", os.getcwd() )"
   ]
  },
  {
   "cell_type": "code",
   "execution_count": 9,
   "metadata": {},
   "outputs": [],
   "source": [
    "# PODCASTS: Latest [n] eps from shows in playlist of episodes\n",
    "def latestNEps( pl_id, n=3 ):\n",
    "    tracks = spot.user_playlist_tracks( user=user_id, \n",
    "        playlist_id=pl_id, )\n",
    "\n",
    "    showIDs = set( artist['id']\n",
    "        for item in tracks[\"items\"]\n",
    "        for artist in item[\"track\"][\"artists\"] \n",
    "        if artist[\"type\"]==\"show\" )  # skip non-podcast tracks\n",
    "\n",
    "    epIDs = []\n",
    "    for showID in showIDs:\n",
    "        show_items = spot.show_episodes(showID)['items']\n",
    "        eps_recent = sorted( [ ( item[\"release_date\"], item[\"id\"] )\n",
    "            for item in show_items ], key= lambda i: i[0], reverse=True )\n",
    "        epIDs.extend( f'spotify:episode:{id}' for _, id in eps_recent[:n] )\n",
    "        \n",
    "    return epIDs\n",
    "\n",
    "# new_pCasts_PL = createNewPL( pl_name=\"PCST\" )\n",
    "# epIDs = latestNEps( \"2PFeIO0B0DtenFmGKbzYvg\", n=3 )\n",
    "# addTracksByID( epIDs, new_pCasts_PL['id'] )"
   ]
  }
 ],
 "metadata": {
  "kernelspec": {
   "display_name": "Python 3",
   "language": "python",
   "name": "python3"
  },
  "language_info": {
   "codemirror_mode": {
    "name": "ipython",
    "version": 3
   },
   "file_extension": ".py",
   "mimetype": "text/x-python",
   "name": "python",
   "nbconvert_exporter": "python",
   "pygments_lexer": "ipython3",
   "version": "3.10.2"
  },
  "orig_nbformat": 4,
  "vscode": {
   "interpreter": {
    "hash": "26de051ba29f2982a8de78e945f0abaf191376122a1563185a90213a26c5da77"
   }
  }
 },
 "nbformat": 4,
 "nbformat_minor": 2
}
