{
 "cells": [
  {
   "cell_type": "code",
   "execution_count": 7,
   "metadata": {},
   "outputs": [],
   "source": [
    "import os\n",
    "import json\n",
    "import keyring\n",
    "import requests\n",
    "import traceback\n",
    "import pandas as pd\n",
    "from OsOps import Ops\n",
    "from spotipy import client, util\n",
    "from collections import namedtuple, Counter"
   ]
  },
  {
   "cell_type": "code",
   "execution_count": 9,
   "metadata": {},
   "outputs": [],
   "source": [
    "# AUTHENTICATE (POST), FROM CREDS STORED IN WIN CRED MGR\n",
    "user_id, sp_cid, sp_sec = ( \n",
    "    keyring.get_password( service, \"\" )\n",
    "    for service in [\n",
    "        \"spottyPie_user_id\",\n",
    "        \"spottyPie_clientID\", \n",
    "        \"spottyPie_clientSecret\"] )\n",
    "\n",
    "if None in [user_id, sp_cid, sp_sec]: print( \"Credential not set locally\" )"
   ]
  },
  {
   "cell_type": "code",
   "execution_count": 326,
   "metadata": {},
   "outputs": [],
   "source": [
    "ops = Ops()\n",
    "\n",
    "# standard API authenticate (not used)\n",
    "def getAuthResponse():\n",
    "    try: return (\n",
    "        requests.post( 'https://accounts.spotify.com/api/token', \n",
    "            { 'grant_type': 'client_credentials',\n",
    "                'client_id': sp_cid,\n",
    "                'client_secret': sp_sec, }) )\n",
    "    except Exception as exc: print( \n",
    "        f\"\\n[ ERRR ] {exc.__class__}\"\n",
    "        f\"\\n[ DSTR ] {exc.__doc__}\"\n",
    "        f\"\\n[ CTXT ] {exc.__context__}\"\n",
    "        f\"\\n{ '='*79 }\"\n",
    "        f\"\\n\\n{traceback.format_exc()}\" )\n",
    "\n",
    "# get authenticated spotipy object\n",
    "def auth_SpotPy():\n",
    "    token = util.prompt_for_user_token(\n",
    "        username= user_id, \n",
    "        scope= \" \".join( [\n",
    "            \"playlist-read-private\",\n",
    "            \"playlist-modify-private\",\n",
    "            \"user-library-modify\",\n",
    "            \"user-read-private\" ]),\n",
    "        client_id= sp_cid, \n",
    "        client_secret= sp_sec, \n",
    "        redirect_uri = \"http://example.com/\")\n",
    "\n",
    "    return client.Spotify(token)\n",
    "\n",
    "spot = auth_SpotPy()"
   ]
  },
  {
   "cell_type": "code",
   "execution_count": 12,
   "metadata": {},
   "outputs": [],
   "source": [
    "# full albums from tracks in any list, sorted by largest album\n",
    "\n",
    "def createNewPL( pl_name=\"New_PL\", stamp=True, ):\n",
    "    try: return spot.user_playlist_create( \n",
    "        user= user_id, \n",
    "        name= f\"{pl_name}_{ops.dtStamp()}\" if stamp else pl_name, \n",
    "        public=False )\n",
    "    except Exception as e: return f\"EXC createNewPL:\\n{type(e).__name__}\\n{e}\"\n",
    "\n",
    "def albsFromPList( pl_id ):\n",
    "    track_list = spot.user_playlist_tracks( user=user_id, playlist_id=pl_id, )\n",
    "    return { i : {\n",
    "        \"alb_id\" : item['track']['album']['id'], \n",
    "        \"tracks\" : item['track']['album']['total_tracks'],\n",
    "        \"dct\" : item, } \n",
    "        for i, item in enumerate( track_list['items']) }\n",
    "\n",
    "def getAllTrackIDs( listDict ):\n",
    "    Alb = namedtuple( \"Alb\", [ \"alb_id\", \"siz\", \"dct\" ] )\n",
    "    albsSorted = sorted( [ \n",
    "        Alb( d[\"alb_id\"], d['tracks'], d[\"dct\"] )\n",
    "        for _, d in listDict.items() ],\n",
    "        key = lambda el: el.siz, reverse=True )\n",
    "    return [ item['id']\n",
    "        for alb in albsSorted\n",
    "        for item in spot.album_tracks( alb.alb_id )['items'] ]\n",
    "\n",
    "def addTracksByID( idList, destination ):\n",
    "    def yieldSegments(li, size):\n",
    "        for i in range(0, len(li), size): yield li[ i:i + size ]\n",
    "    for seg in yieldSegments(idList, 100):  # max 100\n",
    "        spot.user_playlist_add_tracks(\n",
    "            user_id, \n",
    "            playlist_id=destination, \n",
    "            tracks=seg)\n",
    "            \n",
    "created_pl = createNewPL( pl_name=\"rrad\" )\n",
    "# created_pl = createNewPL( pl_name=\"dsco\" )\n",
    "rradDct = albsFromPList( \"37i9dQZEVXbuX4MySjIacD\" ) # release radar \n",
    "# dscoDct = albsFromPList( \"37i9dQZEVXcXssf47BUM1F\" ) # dscov weekly \n",
    "allTrackIDs = getAllTrackIDs( rradDct )\n",
    "# allTrackIDs = getAllTrackIDs( dscoDct )\n",
    "addTracksByID( allTrackIDs, created_pl['id'] )\n",
    "# addTracksByID( allTrackIDs, created_pl['id'] )"
   ]
  },
  {
   "cell_type": "code",
   "execution_count": 327,
   "metadata": {},
   "outputs": [],
   "source": [
    "# add: shuffle playlist by id; \n",
    "    # shuffle must ensure maximum distance between songs of the same album\n",
    "        # THEN/AND maximum distance between songs of same artist\n",
    "        # AND NOT alphabetical or album order\n",
    "track_dct = spot.user_playlist_tracks( user=user_id, playlist_id=\"2gnGX8RzMnqYbVYZuUnkPe\", )"
   ]
  },
  {
   "cell_type": "code",
   "execution_count": 334,
   "metadata": {},
   "outputs": [],
   "source": [
    "\n",
    "# group_id_list = [ \"B\", \"A\", \"A\", \"C\", \"B\", \"A\", \"A\", ]\n",
    "\n",
    "def check_mf_count( mf_counts ):\n",
    "    for alb_id, mf_counter in mf_counts.items(): \n",
    "        if mf_counter<=0: return alb_id\n",
    "    return None\n",
    "\n",
    "\n",
    "def shuffle_groups( alb_id_list ):\n",
    "\n",
    "    list_size = len(alb_id_list)\n",
    "    alb_id_groups = Counter(alb_id_list).most_common()\n",
    "    \n",
    "    # values for minimum-frequency counter, store initial for reset\n",
    "    alb_id_mfCounts = { alb_id : int( list_size / count ) \n",
    "        for alb_id, count in alb_id_groups }\n",
    "\n",
    "    alb_id_mfCounts_orig = alb_id_mfCounts.copy()\n",
    "    \n",
    "    group_pos = 0\n",
    "    new_alb_id_list = [ alb_id_groups[group_pos][0] ]\n",
    "    \n",
    "    while True:\n",
    "        \n",
    "        if ( insert_id := check_mf_count( alb_id_mfCounts ) ):\n",
    "            \n",
    "            new_alb_id_list.append( insert_id )\n",
    "            alb_id_mfCounts = { alb_id : count-1 \n",
    "                if alb_id != insert_id\n",
    "                else alb_id_mfCounts_orig[insert_id]\n",
    "                for alb_id, count in alb_id_mfCounts.items() }\n",
    "                \n",
    "        else:\n",
    "            \n",
    "            group_pos += 1\n",
    "            \n",
    "            try: new_alb_id_list.append( alb_id_groups[group_pos][0] )\n",
    "            except IndexError: return new_alb_id_list\n",
    "            alb_id_mfCounts = { alb_id : count-1 \n",
    "                for alb_id, count in alb_id_mfCounts.items() }\n",
    "\n"
   ]
  },
  {
   "cell_type": "code",
   "execution_count": 335,
   "metadata": {},
   "outputs": [
    {
     "name": "stdout",
     "output_type": "stream",
     "text": [
      "len(group_list)=77\n",
      "len(groups_shuffled)=76\n"
     ]
    }
   ],
   "source": [
    "# group list: naturally has duplicates (one for each group member)\n",
    "group_list = [ item[\"track\"][\"album\"][\"id\"] for item in track_dct[\"items\"] ]\n",
    "\n",
    "\"\"\" FAILING TO ADD A GROUP ENTRY ( \"5NYiyNqu9Joe1qtgJN01w3\" ) \"\"\"\n",
    "groups_shuffled = shuffle_groups( group_list )\n",
    "\n",
    "print( f\"{len(group_list)=}\")\n",
    "print( f\"{len(groups_shuffled)=}\")\n",
    "\n",
    "# for n, xy in enumerate(zip(sorted(group_list), sorted(groups_shuffled))):\n",
    "#     print( f\"{n} {xy[0]} {xy[1]}\" )\n",
    "    \n",
    "# for item in track_dct[\"items\"]:\n",
    "#     if item[\"track\"][\"album\"][\"id\"] == \"5NYiyNqu9Joe1qtgJN01w3\":\n",
    "#         print(item['track']['name'])\n"
   ]
  },
  {
   "cell_type": "code",
   "execution_count": 322,
   "metadata": {},
   "outputs": [],
   "source": [
    "# dict where keys are group_ids (eg. album id), values empty lists\n",
    "groupDct = { group_id : [] for group_id in group_list }\n",
    "\n",
    "for group_id in groupDct:\n",
    "    for item in track_dct[\"items\"]:\n",
    "        if item[\"track\"][\"album\"][\"id\"] == group_id: \n",
    "            pass\n",
    "            # print( f\"{group_id}: {item['track']['id']}\" )\n"
   ]
  },
  {
   "cell_type": "code",
   "execution_count": 323,
   "metadata": {},
   "outputs": [
    {
     "name": "stdout",
     "output_type": "stream",
     "text": [
      "76\n"
     ]
    }
   ],
   "source": [
    "\n",
    "# append tracks to relevant group lists\n",
    "for group_id, group_list in groupDct.items():\n",
    "    group_list.extend( item[\"track\"][\"id\"] for item in track_dct[\"items\"] \n",
    "        if item[\"track\"][\"album\"][\"id\"] == group_id )\n",
    "\n",
    "new_tracklist = []\n",
    "\n",
    "for group_id in groups_shuffled:\n",
    "    # print( f\"{group_id}=\" )\n",
    "    # print( groupDct[group_id] )\n",
    "    # print()\n",
    "    new_tracklist.append( groupDct[group_id].pop() )\n",
    "\n",
    "print( len(new_tracklist) )\n",
    "# # print( len( [ item[\"track\"][\"id\"] for item in track_dct[\"items\"]] ) )\n"
   ]
  },
  {
   "cell_type": "code",
   "execution_count": 324,
   "metadata": {},
   "outputs": [],
   "source": [
    "# allTrackIDs = getAllTrackIDs( rradDct )\n",
    "\n",
    "# def shuffleTracks():\n",
    "#     pass\n",
    "\n",
    "# addTracksByID( allTrackIDs, created_pl['id'] )\n"
   ]
  },
  {
   "cell_type": "code",
   "execution_count": 11,
   "metadata": {},
   "outputs": [],
   "source": [
    "# get library as dataframe ( all playlists, all tracks ) ~10min\n",
    "def getPlaylists( asDict=False ):\n",
    "    '''folder structure not available through API as at 221224'''\n",
    "    incrmt = 50  # max 50\n",
    "    offset = 0\n",
    "    plistsDct = {}\n",
    "    while True:\n",
    "        newItemDcts = spot.current_user_playlists( incrmt, offset)[\"items\"]\n",
    "        plistsDct.update( { iDct[\"id\"]: iDct for iDct in newItemDcts } )\n",
    "        if len(newItemDcts) < incrmt: \n",
    "            return pd.DataFrame( plistsDct ).T if not asDict else plistsDct\n",
    "        else: offset += incrmt\n",
    "\n",
    "def getTracks( id ):\n",
    "    incrmt = 100  # max 100\n",
    "    offset = 0\n",
    "    tracks = {}\n",
    "    while True:\n",
    "        items = spot.user_playlist_tracks( \n",
    "            user=user_id, playlist_id=id, limit=incrmt, offset=offset )[\"items\"]\n",
    "        tracks.update( { i[\"track\"][\"id\"]: i for i in items } )\n",
    "        if len(items) < incrmt: return tracks\n",
    "        else: offset += incrmt\n",
    "\n",
    "# df_pLists = getPlaylists()\n",
    "# df_pLists[\"tracklist\"] = df_pLists[\"id\"].apply( lambda id: getAllTracks( id ) )\n",
    "# ops.storePKL( df_pLists, \"df_pLists\", os.getcwd() )"
   ]
  },
  {
   "cell_type": "code",
   "execution_count": 10,
   "metadata": {},
   "outputs": [],
   "source": [
    "plDct = getPlaylists( asDict=True )\n",
    "for id, dct in plDct.items(): dct[\"tracks\"].update({ \"list\": getTracks( id )})\n",
    "ops.storePKL( plDct, \"plDct\", os.getcwd() )"
   ]
  },
  {
   "cell_type": "code",
   "execution_count": 9,
   "metadata": {},
   "outputs": [],
   "source": [
    "# PODCASTS: Latest [n] eps from shows in playlist of episodes\n",
    "def latestNEps( pl_id, n=3 ):\n",
    "    tracks = spot.user_playlist_tracks( user=user_id, \n",
    "        playlist_id=pl_id, )\n",
    "\n",
    "    showIDs = set( artist['id']\n",
    "        for item in tracks[\"items\"]\n",
    "        for artist in item[\"track\"][\"artists\"] \n",
    "        if artist[\"type\"]==\"show\" )  # skip non-podcast tracks\n",
    "\n",
    "    epIDs = []\n",
    "    for showID in showIDs:\n",
    "        show_items = spot.show_episodes(showID)['items']\n",
    "        eps_recent = sorted( [ ( item[\"release_date\"], item[\"id\"] )\n",
    "            for item in show_items ], key= lambda i: i[0], reverse=True )\n",
    "        epIDs.extend( f'spotify:episode:{id}' for _, id in eps_recent[:n] )\n",
    "        \n",
    "    return epIDs\n",
    "\n",
    "# new_pCasts_PL = createNewPL( pl_name=\"PCST\" )\n",
    "# epIDs = latestNEps( \"2PFeIO0B0DtenFmGKbzYvg\", n=3 )\n",
    "# addTracksByID( epIDs, new_pCasts_PL['id'] )"
   ]
  }
 ],
 "metadata": {
  "kernelspec": {
   "display_name": "Python 3",
   "language": "python",
   "name": "python3"
  },
  "language_info": {
   "codemirror_mode": {
    "name": "ipython",
    "version": 3
   },
   "file_extension": ".py",
   "mimetype": "text/x-python",
   "name": "python",
   "nbconvert_exporter": "python",
   "pygments_lexer": "ipython3",
   "version": "3.10.2"
  },
  "orig_nbformat": 4,
  "vscode": {
   "interpreter": {
    "hash": "26de051ba29f2982a8de78e945f0abaf191376122a1563185a90213a26c5da77"
   }
  }
 },
 "nbformat": 4,
 "nbformat_minor": 2
}
